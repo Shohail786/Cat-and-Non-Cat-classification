{
  "nbformat": 4,
  "nbformat_minor": 0,
  "metadata": {
    "colab": {
      "name": "cat & non-cat",
      "provenance": [],
      "collapsed_sections": [],
      "mount_file_id": "1j9q_6CugCN5wkmWPcrlqM5ZsDa-9GMLn",
      "authorship_tag": "ABX9TyMSaa3BoVPqQXJqdZaS1/A9",
      "include_colab_link": true
    },
    "kernelspec": {
      "name": "python3",
      "display_name": "Python 3"
    },
    "language_info": {
      "name": "python"
    }
  },
  "cells": [
    {
      "cell_type": "markdown",
      "metadata": {
        "id": "view-in-github",
        "colab_type": "text"
      },
      "source": [
        "<a href=\"https://colab.research.google.com/github/Shohail786/Cat-and-Non-Cat-classification/blob/main/cat_%26_non_cat.ipynb\" target=\"_parent\"><img src=\"https://colab.research.google.com/assets/colab-badge.svg\" alt=\"Open In Colab\"/></a>"
      ]
    },
    {
      "cell_type": "markdown",
      "source": [
        "# New section"
      ],
      "metadata": {
        "id": "5vvuWPvNpNbw"
      }
    },
    {
      "cell_type": "code",
      "source": [
        "import h5py\n",
        "import numpy as np\n",
        "file_name=\"/content/drive/MyDrive/DataSet_cat&non-cat/train_catvnoncat.h5\"\n",
        "with h5py.File(file_name, \"r\") as f:\n",
        "    # List all groups\n",
        "    print(\"Keys: %s\" % f.keys())\n",
        "    a_group_key = list(f.keys())[0]\n",
        "\n",
        "    # Get the data\n",
        "    data = list(f[a_group_key])\n",
        "import matplotlib.pyplot as plt\n",
        "train_dataset = h5py.File(file_name, \"r\")\n",
        "train_x_orig = np.array(train_dataset[\"train_set_x\"][:]) # your train set features\n",
        "train_y_orig = np.array(train_dataset[\"train_set_y\"][:]) # your train set labels\n",
        "train_z_orig = np.array(train_dataset[\"list_classes\"][:])\n",
        "index = 200\n",
        "plt.imshow(train_x_orig[index])\n",
        "m_train = train_x_orig.shape[0]\n",
        "num_px = train_x_orig.shape[1]\n",
        "print(m_train)\n",
        "print(train_y_orig.shape[0])"
      ],
      "metadata": {
        "colab": {
          "base_uri": "https://localhost:8080/",
          "height": 320
        },
        "id": "y7RSrWQkpvS5",
        "outputId": "50e9b196-52b9-4a7c-dd33-ae3590be81b9"
      },
      "execution_count": 11,
      "outputs": [
        {
          "output_type": "stream",
          "name": "stdout",
          "text": [
            "Keys: <KeysViewHDF5 ['list_classes', 'train_set_x', 'train_set_y']>\n",
            "209\n",
            "209\n"
          ]
        },
        {
          "output_type": "display_data",
          "data": {
            "text/plain": [
              "<Figure size 432x288 with 1 Axes>"
            ],
            "image/png": "[encoded data removed]"
          },
          "metadata": {
            "needs_background": "light"
          }
        }
      ]
    },
    {
      "cell_type": "code",
      "source": [
        "print(a_group_key)"
      ],
      "metadata": {
        "colab": {
          "base_uri": "https://localhost:8080/"
        },
        "id": "2hv8sCQnxKaX",
        "outputId": "3de7bae4-f8b9-4314-a480-6da704a16227"
      },
      "execution_count": 9,
      "outputs": [
        {
          "output_type": "stream",
          "name": "stdout",
          "text": [
            "list_classes\n"
          ]
        }
      ]
    },
    {
      "cell_type": "code",
      "source": [
        "trainfile=\"/content/drive/MyDrive/DataSet_cat&non-cat/train_catvnoncat.h5\"\n",
        "testfile=\"/content/drive/MyDrive/DataSet_cat&non-cat/test_catvnoncat.h5\""
      ],
      "metadata": {
        "id": "7j2OsOO5_NAm"
      },
      "execution_count": 3,
      "outputs": []
    },
    {
      "cell_type": "code",
      "source": [
        "def load_dataset():\n",
        "  train_dataset=h5py.File(trainfile,\"r\")\n",
        "  train_set_x_orig=np.array(train_dataset[\"train_set_x\"][:])\n",
        "  train_set_y_orig=np.array(train_dataset[\"train_set_y\"][:])\n",
        "  train_set_y_orig=train_set_y_orig.reshape((1,train_set_y_orig.shape[0]))\n",
        "  test_dataset=h5py.File(testfile,'r')\n",
        "  test_set_x_orig=np.array(test_dataset[\"test_set_x\"][:])\n",
        "  test_set_y_orig=np.array(test_dataset[\"test_set_y\"][:])\n",
        "  test_set_y_orig=test_set_y_orig.reshape((1,test_set_y_orig.shape[0]))\n",
        "  classes=np.array(test_dataset[\"list_classes\"][:])\n",
        "  return train_set_x_orig,train_set_y_orig,test_set_x_orig,test_set_y_orig,classes\n"
      ],
      "metadata": {
        "id": "2aHMRtBt-6yj"
      },
      "execution_count": 12,
      "outputs": []
    },
    {
      "cell_type": "code",
      "source": [
        "train_set_x_orig,train_set_y_orig,test_set_x_orig,test_set_y_orig,classes=load_dataset()"
      ],
      "metadata": {
        "id": "EUmPLnTe0Ek0"
      },
      "execution_count": 13,
      "outputs": []
    },
    {
      "cell_type": "code",
      "source": [
        "index=104\n",
        "plt.imshow(train_set_x_orig[index])\n",
        "print(\"y=\"+str(train_set_y_orig[:,index])+\" , it's a \"+classes[np.squeeze(train_set_y_orig[:,index])].decode(\"utf-8\")+\" picture\")"
      ],
      "metadata": {
        "colab": {
          "base_uri": "https://localhost:8080/",
          "height": 285
        },
        "id": "txoDhKta0YN-",
        "outputId": "c13ed251-3750-43ba-fa2b-31d9ab456807"
      },
      "execution_count": 20,
      "outputs": [
        {
          "output_type": "stream",
          "name": "stdout",
          "text": [
            "y=[1] , it's a cat picture\n"
          ]
        },
        {
          "output_type": "display_data",
          "data": {
            "text/plain": [
              "<Figure size 432x288 with 1 Axes>"
            ],
            "image/png": "[encoded data removed]"
          },
          "metadata": {
            "needs_background": "light"
          }
        }
      ]
    },
    {
      "cell_type": "code",
      "source": [
        "m_train=train_set_x_orig.shape[0]\n",
        "m_test=test_set_x_orig.shape[0]\n",
        "img_dim=train_set_x_orig.shape[1]\n",
        "print(\"m_train: \"+str(m_train))\n",
        "print(\"m_test: \"+str(m_test))\n",
        "print(\"img_dim: \"+str(img_dim))"
      ],
      "metadata": {
        "colab": {
          "base_uri": "https://localhost:8080/"
        },
        "id": "-k4aFFNx3zxY",
        "outputId": "f7fcfe81-6be3-4be5-99d8-4b7411bf1dad"
      },
      "execution_count": 21,
      "outputs": [
        {
          "output_type": "stream",
          "name": "stdout",
          "text": [
            "m_train: 209\n",
            "m_test: 50\n",
            "img_dim: 64\n"
          ]
        }
      ]
    },
    {
      "cell_type": "code",
      "source": [
        "#flatten the image dim to a vector (img_dim*img_dim*3,1)\n",
        "train_set_x_flatten=train_set_x_orig.reshape(m_train,-1).T\n",
        "print(train_set_x_flatten.shape)\n",
        "test_set_x_flatten=test_set_x_orig.reshape(m_test,-1).T\n",
        "print(test_set_x_flatten.shape)"
      ],
      "metadata": {
        "colab": {
          "base_uri": "https://localhost:8080/"
        },
        "id": "PSo-f0Xo4jvx",
        "outputId": "f85be86c-b126-4ce6-e403-77c8d0779a9e"
      },
      "execution_count": 29,
      "outputs": [
        {
          "output_type": "stream",
          "name": "stdout",
          "text": [
            "(12288, 209)\n",
            "(12288, 50)\n"
          ]
        }
      ]
    },
    {
      "cell_type": "code",
      "source": [
        "#standardize the dataset or preprocess\n",
        "#image divide by 255\n",
        "train_set_x=train_set_x_flatten/255\n",
        "test_set_x=test_set_x_flatten/255\n"
      ],
      "metadata": {
        "id": "m2OY5E6k5rZS"
      },
      "execution_count": 37,
      "outputs": []
    },
    {
      "cell_type": "code",
      "source": [
        "def sigmoid(z):\n",
        "  s=1/(1+np.exp(-z))\n",
        "  return s"
      ],
      "metadata": {
        "id": "RF65tbDI6eAB"
      },
      "execution_count": 38,
      "outputs": []
    },
    {
      "cell_type": "code",
      "source": [
        "print(sigmoid(np.array([5,2,4])))"
      ],
      "metadata": {
        "colab": {
          "base_uri": "https://localhost:8080/"
        },
        "id": "SqElJwKg6ygg",
        "outputId": "384a77be-f731-4c06-caa7-9bc276ddc652"
      },
      "execution_count": 45,
      "outputs": [
        {
          "output_type": "stream",
          "name": "stdout",
          "text": [
            "[0.99330715 0.88079708 0.98201379]\n"
          ]
        }
      ]
    },
    {
      "cell_type": "code",
      "source": [
        "#zero initialize\n",
        "def initZero(dim):\n",
        "  w=np.zeros((dim,1),dtype=float)\n",
        "  b=float(0.0)\n",
        "  return w,b\n"
      ],
      "metadata": {
        "id": "YEmopmuM7pS2"
      },
      "execution_count": 46,
      "outputs": []
    },
    {
      "cell_type": "code",
      "source": [
        "dim=3\n",
        "w,b=initZero(dim)\n",
        "print(\"w=\"+str(w))\n",
        "print(\"b=\"+str(b))"
      ],
      "metadata": {
        "colab": {
          "base_uri": "https://localhost:8080/"
        },
        "id": "ojaHHMsq8Jy4",
        "outputId": "07e22ba7-dc87-4807-9b65-3722f998cafc"
      },
      "execution_count": 47,
      "outputs": [
        {
          "output_type": "stream",
          "name": "stdout",
          "text": [
            "w=[[0.]\n",
            " [0.]\n",
            " [0.]]\n",
            "b=0.0\n"
          ]
        }
      ]
    },
    {
      "cell_type": "code",
      "source": [
        "def forward_prop(w,b,X,Y):\n",
        "  m=X.shape[1]\n",
        "  z=np.dot(w.T,X)+b\n",
        "  A=1/(1+np.exp(-z))\n",
        "  cost=(-1/m)*np.sum(np.dot(Y,np.log(A).T)+np.dot((1-Y),np.log(1-A).T))\n",
        "  cost=np.squeeze(np.array(cost))\n",
        "  return A,cost\n"
      ],
      "metadata": {
        "id": "O6rH9Mhr8lsA"
      },
      "execution_count": 56,
      "outputs": []
    },
    {
      "cell_type": "code",
      "source": [
        "def backward_prop(X,A,Y):\n",
        "  m=X.shape[1]\n",
        "  dw=(1/m)*np.dot(X,(A-Y).T)\n",
        "  db=(1/m)*np.sum((A-Y).T)\n",
        "  grads={\"dw\": dw,\"db\":db}\n",
        "  return grads\n"
      ],
      "metadata": {
        "id": "3wnyTRFj9jAQ"
      },
      "execution_count": 63,
      "outputs": []
    },
    {
      "cell_type": "code",
      "source": [
        "w=np.array([[1.],[2]])\n",
        "b=1.5\n",
        "X=np.array([[1.,-2.,-1.],[3.,0.5,-3.2]])\n",
        "Y=np.array([[1,1,0]])\n",
        "A,cost=forward_prop(w,b,X,Y)\n",
        "grads=backward_prop(X,A,Y)\n",
        "print(\"dw=\" +str(grads[\"dw\"]))\n",
        "print(\"db=\"+str(grads[\"db\"]))"
      ],
      "metadata": {
        "colab": {
          "base_uri": "https://localhost:8080/"
        },
        "id": "ObdyIXyz-KkD",
        "outputId": "cb16c9b9-ef73-4a77-bcd5-c855d777a1ba"
      },
      "execution_count": 64,
      "outputs": [
        {
          "output_type": "stream",
          "name": "stdout",
          "text": [
            "dw=[[ 0.25071532]\n",
            " [-0.06604096]]\n",
            "db=-0.1250040450043965\n"
          ]
        }
      ]
    },
    {
      "cell_type": "code",
      "source": [
        "#optimize minimize the lost function through the params w,b\n",
        "import copy\n",
        "def optimizer(w,b,X,Y,num_it=100,lr=0.009,print_cost=False):\n",
        "    w=copy.deepcopy(w)\n",
        "    b=copy.deepcopy(b)\n",
        "    costs=[]\n",
        "    for i in range(num_it):\n",
        "      A,cost=forward_prop(w,b,X,Y)\n",
        "      grads=backward_prop(X,A,Y)\n",
        "      dw=grads[\"dw\"]\n",
        "      db=grads[\"db\"]\n",
        "      w=w-lr*dw\n",
        "      b=b-lr*db\n",
        "      if i%100==0:\n",
        "        costs.append(cost)\n",
        "        if print_cost: print(\"Cost after iteration %i:%f\" %(i,cost))\n",
        "    params={\"w\":w,\"b\":b}\n",
        "    grads={\"dw\":dw,\"db\":db}\n",
        "    return params,grads,costs\n",
        "\n"
      ],
      "metadata": {
        "id": "KUYx3WBgBJPy"
      },
      "execution_count": 74,
      "outputs": []
    },
    {
      "cell_type": "code",
      "source": [
        "params,grads,cost=optimizer(w,b,X,Y,num_it=100,lr=0.009,print_cost=True)\n",
        "print(\"w= \"+str(params[\"w\"]))\n",
        "print(\"b= \"+str(params[\"b\"]))\n",
        "print(\"dw= \"+str(grads[\"dw\"]))\n",
        "print(\"db= \"+str(grads[\"db\"]))"
      ],
      "metadata": {
        "colab": {
          "base_uri": "https://localhost:8080/"
        },
        "id": "pCQQfFi4EUSZ",
        "outputId": "a6515fc4-db09-406d-f319-9163cbdaf2a8"
      },
      "execution_count": 77,
      "outputs": [
        {
          "output_type": "stream",
          "name": "stdout",
          "text": [
            "Cost after iteration 0:0.159005\n",
            "w= [[0.80956046]\n",
            " [2.0508202 ]]\n",
            "b= 1.5948713189708588\n",
            "dw= [[ 0.17860505]\n",
            " [-0.04840656]]\n",
            "db= -0.08888460336847771\n"
          ]
        }
      ]
    },
    {
      "cell_type": "code",
      "source": [
        "#prediction\n",
        "def predict(w,b,X):\n",
        "  m=X.shape[1]\n",
        "  Y_pred=np.zeros((1,m))\n",
        "  w=w.reshape(X.shape[0],1)\n",
        "  z=np.dot(w.T,X)+b\n",
        "  A=1/(1+np.exp(-z))\n",
        "  for i in range(A.shape[1]):\n",
        "    if(A[0,i])>0.5:\n",
        "      Y_pred[0,i]=1\n",
        "    else:\n",
        "      Y_pred[0,i]=0\n",
        "  return Y_pred\n"
      ],
      "metadata": {
        "id": "ChH-wDqQF3A8"
      },
      "execution_count": 78,
      "outputs": []
    },
    {
      "cell_type": "code",
      "source": [
        "w=np.array([[0.1124],[0.2310]])\n",
        "b=-0.3\n",
        "X=np.array([[1.,-1.1,-3.2],[1.2,2.,0.1]])\n",
        "print(\"prediction= \"+str(predict(w,b,X)))"
      ],
      "metadata": {
        "colab": {
          "base_uri": "https://localhost:8080/"
        },
        "id": "DQXeMe2dIT5Z",
        "outputId": "7361b75c-5271-439b-a22b-5f02c3313a0d"
      },
      "execution_count": 79,
      "outputs": [
        {
          "output_type": "stream",
          "name": "stdout",
          "text": [
            "prediction= [[1. 1. 0.]]\n"
          ]
        }
      ]
    },
    {
      "cell_type": "code",
      "source": [
        "def model(X_train,Y_train,X_test,Y_test,num_it=2000,lr=0.5,print_cost=False):\n",
        "  w,b=initZero(X_train.shape[0])\n",
        "  params,grads,costs=optimizer(w,b,X_train,Y_train,num_it,lr,print_cost)\n",
        "  w=params[\"w\"]\n",
        "  b=params[\"b\"]\n",
        "  Y_pred_train=predict(w,b,X_train)\n",
        "  Y_pred_test=predict(w,b,X_test)\n",
        "  if  print_cost:\n",
        "    print(\"train accuracy: {}%\".format(100-np.mean(np.abs(Y_pred_train-Y_train)*100)))\n",
        "    print(\"test accuracy: {}%\". format(100-np.mean(np.abs(Y_pred_test-Y_test))*100))\n",
        "  d={\"costs\" : costs,\"Y_pred_train\":Y_pred_train,\"Y_pred_test\":Y_pred_test,\n",
        "     \"w\" :w,\"b\":b,\"learning_rate\":lr,\"num_itr\":num_it}\n",
        "  return d\n"
      ],
      "metadata": {
        "id": "gVdw7XeUJwUd"
      },
      "execution_count": 96,
      "outputs": []
    },
    {
      "cell_type": "code",
      "source": [
        "logistic_reg_model=model(train_set_x,train_set_y_orig,test_set_x,test_set_y_orig,num_it=2000,lr=0.005,print_cost=True)"
      ],
      "metadata": {
        "colab": {
          "base_uri": "https://localhost:8080/"
        },
        "id": "T1txZrreNCTd",
        "outputId": "1af4c7f2-58ef-4205-872a-ab836f040c02"
      },
      "execution_count": 97,
      "outputs": [
        {
          "output_type": "stream",
          "name": "stdout",
          "text": [
            "Cost after iteration 0:0.693147\n",
            "Cost after iteration 100:0.584508\n",
            "Cost after iteration 200:0.466949\n",
            "Cost after iteration 300:0.376007\n",
            "Cost after iteration 400:0.331463\n",
            "Cost after iteration 500:0.303273\n",
            "Cost after iteration 600:0.279880\n",
            "Cost after iteration 700:0.260042\n",
            "Cost after iteration 800:0.242941\n",
            "Cost after iteration 900:0.228004\n",
            "Cost after iteration 1000:0.214820\n",
            "Cost after iteration 1100:0.203078\n",
            "Cost after iteration 1200:0.192544\n",
            "Cost after iteration 1300:0.183033\n",
            "Cost after iteration 1400:0.174399\n",
            "Cost after iteration 1500:0.166521\n",
            "Cost after iteration 1600:0.159305\n",
            "Cost after iteration 1700:0.152667\n",
            "Cost after iteration 1800:0.146542\n",
            "Cost after iteration 1900:0.140872\n",
            "train accuracy: 99.04306220095694%\n",
            "test accuracy: 70.0%\n"
          ]
        }
      ]
    },
    {
      "cell_type": "code",
      "source": [
        "#plot\n",
        "import matplotlib.pyplot as plt\n",
        "costs=np.squeeze(logistic_reg_model['costs'])\n",
        "plt.plot(costs)\n",
        "plt.ylabel('costs')\n",
        "plt.xlabel('iterations per 100')\n",
        "plt.title(\"Learning rate \"+str(logistic_reg_model['learning_rate']))\n",
        "plt.show()"
      ],
      "metadata": {
        "colab": {
          "base_uri": "https://localhost:8080/",
          "height": 295
        },
        "id": "wEP2d7gSRMfZ",
        "outputId": "04cb0086-44b9-4b96-951d-9e7da528390a"
      },
      "execution_count": 98,
      "outputs": [
        {
          "output_type": "display_data",
          "data": {
            "text/plain": [
              "<Figure size 432x288 with 1 Axes>"
            ],
            "image/png": "[encoded data removed]"
          },
          "metadata": {
            "needs_background": "light"
          }
        }
      ]
    },
    {
      "cell_type": "code",
      "source": [
        "#plot for different learning rate\n",
        "learning_rate=[0.01,0.001,0.0001]\n",
        "models={}\n",
        "for lr in learning_rate:\n",
        "  print(\"learning_rate : \"+str(lr))\n",
        "  models[str(lr)]=model(train_set_x,train_set_y_orig,test_set_x,test_set_y_orig,num_it=1500,lr=lr,print_cost=False)\n",
        "  print('\\n'+\"----------------------------------\")\n",
        "for lr in learning_rate:\n",
        "  plt.plot(np.squeeze(models[str(lr)][\"costs\"]),label=str(models[str(lr)][\"learning_rate\"]))\n",
        "plt.ylabel('cost')\n",
        "plt.xlabel('iteration per 100')\n",
        "legend=plt.legend(loc='upper center',shadow=True)\n",
        "frame=legend.get_frame()\n",
        "frame.set_facecolor('0.9')\n",
        "plt.show()"
      ],
      "metadata": {
        "colab": {
          "base_uri": "https://localhost:8080/",
          "height": 435
        },
        "id": "K4shvJsNUqLc",
        "outputId": "77d1dfd6-00d4-4495-999d-d1dc8544d728"
      },
      "execution_count": 105,
      "outputs": [
        {
          "output_type": "stream",
          "name": "stdout",
          "text": [
            "learning_rate : 0.01\n",
            "\n",
            "----------------------------------\n",
            "learning_rate : 0.001\n",
            "\n",
            "----------------------------------\n",
            "learning_rate : 0.0001\n",
            "\n",
            "----------------------------------\n"
          ]
        },
        {
          "output_type": "display_data",
          "data": {
            "text/plain": [
              "<Figure size 432x288 with 1 Axes>"
            ],
            "image/png": "[encoded data removed]"
          },
          "metadata": {
            "needs_background": "light"
          }
        }
      ]
    },
    {
      "cell_type": "code",
      "source": [
        "from PIL import Image\n",
        "from scipy import ndimage\n",
        "fname=\"/content/drive/MyDrive/DataSet_cat&non-cat/Capture2.JPG\"\n",
        "image=np.array(Image.open(fname).resize((img_dim,img_dim)))\n",
        "plt.imshow(image)\n",
        "image=image/255.\n",
        "image=image.reshape((1,img_dim*img_dim*3)).T\n",
        "pred_img=predict(logistic_reg_model[\"w\"],logistic_reg_model[\"b\"],image)\n",
        "print(\"y= \"+str(np.squeeze(pred_img))+\", this a \"+classes[int(np.squeeze(pred_img)),].decode(\"utf-8\"))"
      ],
      "metadata": {
        "colab": {
          "base_uri": "https://localhost:8080/",
          "height": 285
        },
        "id": "_GWK8SYqTcyO",
        "outputId": "4ad2e217-8cbc-460f-98c1-7ee77935dcbf"
      },
      "execution_count": 113,
      "outputs": [
        {
          "output_type": "stream",
          "name": "stdout",
          "text": [
            "y= 1.0, this a cat\n"
          ]
        },
        {
          "output_type": "display_data",
          "data": {
            "text/plain": [
              "<Figure size 432x288 with 1 Axes>"
            ],
            "image/png": "[encoded data removed]"
          },
          "metadata": {
            "needs_background": "light"
          }
        }
      ]
    }
  ]
}